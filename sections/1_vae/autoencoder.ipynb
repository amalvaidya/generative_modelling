{
 "cells": [
  {
   "cell_type": "code",
   "execution_count": null,
   "id": "8dda7d7b-57dc-4480-9687-4d7890fd7b0b",
   "metadata": {},
   "outputs": [],
   "source": [
    "import torch\n",
    "import torch.nn as nn\n",
    "import torchvision.datasets as datasets\n",
    "import torchvision.transforms as transforms\n",
    "from torchsummary import summary\n",
    "import matplotlib.pyplot as plt\n",
    "\n",
    "from torchviz import make_dot\n",
    "from torch.utils.data import DataLoader\n",
    "\n",
    "from autoencoder import AutoEncoder\n",
    "\n"
   ]
  },
  {
   "cell_type": "code",
   "execution_count": null,
   "id": "10e4ad45-d537-408a-b408-4c334ef1e6bc",
   "metadata": {},
   "outputs": [],
   "source": [
    "device = torch.device(\"cuda:0\" if torch.cuda.is_available() else \"cpu\")"
   ]
  },
  {
   "cell_type": "code",
   "execution_count": null,
   "id": "62b188ee-4b35-447e-8e44-1b753768e42e",
   "metadata": {},
   "outputs": [],
   "source": [
    "data_path = \"/home/amal/UbuntuDocuments/data/torch_datasets\"\n",
    "\n",
    "# train_data = datasets.CelebA(data_path, split=\"train\", transform=transforms.PILToTensor(), download=True)\n",
    "validation_data =  datasets.CelebA(data_path, split=\"valid\", transform=transforms.PILToTensor(), download=True)"
   ]
  },
  {
   "cell_type": "code",
   "execution_count": null,
   "id": "b761b9a8-f676-4deb-966f-759f03eb2a39",
   "metadata": {},
   "outputs": [],
   "source": []
  },
  {
   "cell_type": "code",
   "execution_count": null,
   "id": "df9dec73-c988-4af2-9445-7c48170e24b2",
   "metadata": {},
   "outputs": [],
   "source": [
    "#inspired by \n",
    "# https://github.com/AntixK/PyTorch-VAE/blob/master/models/beta_vae.py\n",
    "        \n",
    "latent_dim = 200"
   ]
  },
  {
   "cell_type": "code",
   "execution_count": null,
   "id": "839b4711-bb69-49af-9945-d692e2d26e95",
   "metadata": {},
   "outputs": [],
   "source": [
    "model = AutoEncoder(latent_dim=latent_dim).to(device)"
   ]
  },
  {
   "cell_type": "code",
   "execution_count": null,
   "id": "71822316-6802-41f8-a968-390b351783ce",
   "metadata": {},
   "outputs": [],
   "source": []
  },
  {
   "cell_type": "code",
   "execution_count": null,
   "id": "4b8ecaa3-c109-4df7-ac30-41fde9068c74",
   "metadata": {},
   "outputs": [],
   "source": []
  },
  {
   "cell_type": "code",
   "execution_count": null,
   "id": "ae00b46a-9f85-44b2-b0eb-2e9f81d31a15",
   "metadata": {},
   "outputs": [],
   "source": [
    "dataloader = DataLoader(validation_data, batch_size=8)"
   ]
  },
  {
   "cell_type": "code",
   "execution_count": null,
   "id": "5666baf8-7e3a-40a9-afef-640bb6ce13bc",
   "metadata": {},
   "outputs": [],
   "source": [
    "model = AutoEncoder(latent_dim=latent_dim)\n",
    "model.to(device)\n",
    "for data in dataloader:\n",
    "    input_image = data[0]\n",
    "    tensor_input = torch.tensor(input_image/255, dtype=torch.float).to(device)\n",
    "    print(tensor_input.shape)\n",
    "    output = model(tensor_input)\n",
    "    print(output.shape)\n",
    "    \n",
    "    break"
   ]
  },
  {
   "cell_type": "code",
   "execution_count": null,
   "id": "722ad45d-38c0-4998-b993-0a1b28460873",
   "metadata": {},
   "outputs": [],
   "source": [
    "torch.tensor([3, 218, 178]).to(device).shape"
   ]
  },
  {
   "cell_type": "code",
   "execution_count": null,
   "id": "bf12344f-166a-4a60-bcaf-fbfaf64657f0",
   "metadata": {},
   "outputs": [],
   "source": [
    "model = AutoEncoder(latent_dim=latent_dim)\n",
    "summary(model.to(device), (3, 218, 178))"
   ]
  },
  {
   "cell_type": "code",
   "execution_count": null,
   "id": "b3fd7686-75e8-444e-ba00-33deb047849d",
   "metadata": {},
   "outputs": [],
   "source": [
    "output = output.detach().cpu()"
   ]
  },
  {
   "cell_type": "code",
   "execution_count": null,
   "id": "21df5679-2e84-4b5c-86aa-26e273487b21",
   "metadata": {},
   "outputs": [],
   "source": [
    "index = 4"
   ]
  },
  {
   "cell_type": "code",
   "execution_count": null,
   "id": "94e05f4b-657d-425f-bf1e-23235bfa700b",
   "metadata": {},
   "outputs": [],
   "source": [
    "plt.imshow(output[index, :].permute(1, 2, 0))"
   ]
  },
  {
   "cell_type": "code",
   "execution_count": null,
   "id": "cd950092-0830-4967-b2fe-a7a41f03bf7b",
   "metadata": {},
   "outputs": [],
   "source": []
  }
 ],
 "metadata": {
  "kernelspec": {
   "display_name": "gen",
   "language": "python",
   "name": "gen"
  },
  "language_info": {
   "codemirror_mode": {
    "name": "ipython",
    "version": 3
   },
   "file_extension": ".py",
   "mimetype": "text/x-python",
   "name": "python",
   "nbconvert_exporter": "python",
   "pygments_lexer": "ipython3"
  }
 },
 "nbformat": 4,
 "nbformat_minor": 5
}
