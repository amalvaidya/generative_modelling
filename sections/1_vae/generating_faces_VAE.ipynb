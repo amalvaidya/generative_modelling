{
 "cells": [
  {
   "cell_type": "code",
   "execution_count": null,
   "id": "c822f6fa-107a-454c-bb9f-59296759a2cb",
   "metadata": {},
   "outputs": [],
   "source": [
    "import torch\n",
    "import torch.nn as nn\n",
    "import torchvision.datasets as datasets\n",
    "import torchvision.transforms as transforms\n",
    "from torchsummary import summary\n",
    "import matplotlib.pyplot as plt\n",
    "import matplotlib as mpl\n",
    "import numpy as np\n",
    "from torch.utils.data import DataLoader\n",
    "from pathlib import Path\n",
    "import pandas as pd\n",
    "\n",
    "from models import VAE\n",
    "import pickle\n",
    "\n",
    "import umap"
   ]
  },
  {
   "cell_type": "code",
   "execution_count": null,
   "id": "5a432a8e-86f8-450e-9e67-4b5b1a11e13b",
   "metadata": {},
   "outputs": [],
   "source": [
    "device = torch.device(\"cuda:0\" if torch.cuda.is_available() else \"cpu\")\n",
    "mpl.rcParams['figure.dpi'] = 150"
   ]
  },
  {
   "cell_type": "code",
   "execution_count": null,
   "id": "a240ec3b-8e87-4cdd-8999-93a62fae9a6d",
   "metadata": {},
   "outputs": [],
   "source": [
    "out_path = Path(\"/home/amal/UbuntuDocuments/projects/generative_modelling/saved_models\")"
   ]
  },
  {
   "cell_type": "code",
   "execution_count": null,
   "id": "1e2dd7e5-4d4c-4e4f-afe7-c9546e3f4e9d",
   "metadata": {},
   "outputs": [],
   "source": [
    "latent_dim = 200\n",
    "\n",
    "model = VAE(latent_dim=latent_dim)\n",
    "model.to(device)\n",
    "checkpoint_path = out_path / f\"VAE_epoch_14.pth\"\n",
    "checkpoint = torch.load(checkpoint_path)\n",
    "model.load_state_dict(checkpoint[\"model_state_dict\"])\n",
    "model.eval()"
   ]
  },
  {
   "cell_type": "code",
   "execution_count": null,
   "id": "6633b7e2-2d26-4e7c-aad1-1a05569af94b",
   "metadata": {},
   "outputs": [],
   "source": [
    "N_samples = 15"
   ]
  },
  {
   "cell_type": "code",
   "execution_count": null,
   "id": "d89f5750-037d-44dd-97a0-fafa0339f84e",
   "metadata": {},
   "outputs": [],
   "source": [
    "random_vectors = torch.normal(\n",
    "    mean=torch.zeros(200).repeat(N_samples, 1), \n",
    "    std=torch.ones(200).repeat(N_samples, 1)\n",
    ").to(device)"
   ]
  },
  {
   "cell_type": "code",
   "execution_count": null,
   "id": "8a728834-6d19-44a4-bcd2-a94ec377f348",
   "metadata": {},
   "outputs": [],
   "source": [
    "random_vectors[0, :]"
   ]
  },
  {
   "cell_type": "code",
   "execution_count": null,
   "id": "19a7d24e-561c-4c05-9ab6-6f464d22bfb2",
   "metadata": {},
   "outputs": [],
   "source": [
    "model.eval()\n",
    "generated_image = model.decode(random_vectors)"
   ]
  },
  {
   "cell_type": "code",
   "execution_count": null,
   "id": "ec6be947-b299-40fa-922f-5a59c0098970",
   "metadata": {},
   "outputs": [],
   "source": [
    "generated_image=generated_image.detach().cpu()"
   ]
  },
  {
   "cell_type": "code",
   "execution_count": null,
   "id": "e560d3ff-5f35-47e6-a2ef-e41c0701b9f5",
   "metadata": {},
   "outputs": [],
   "source": [
    "generated_image = (generated_image*255).to(torch.int32)"
   ]
  },
  {
   "cell_type": "code",
   "execution_count": null,
   "id": "15398048-aaff-4a70-b0e8-88ab6d1c9c6f",
   "metadata": {},
   "outputs": [],
   "source": [
    "output_dir = Path(\"/home/amal/UbuntuDocuments/writing/blog/generative_ml/images/vae\")\n",
    "SAVE = False\n",
    "for i in range(N_samples):\n",
    "    plt.imshow(generated_image[i, :].squeeze().permute(1, 2, 0))\n",
    "    plt.axis('off')\n",
    "    if SAVE:\n",
    "        plt.savefig(output_dir / f\"vae_random_gen_{i}.png\", bbox_inches='tight', pad_inches=0)\n",
    "    plt.show()"
   ]
  },
  {
   "cell_type": "code",
   "execution_count": null,
   "id": "e6305a92-23a6-4a9f-b7c7-1981e2b4637c",
   "metadata": {},
   "outputs": [],
   "source": []
  },
  {
   "cell_type": "code",
   "execution_count": null,
   "id": "88b40663-9b47-4958-82d9-6abd03947b3d",
   "metadata": {},
   "outputs": [],
   "source": []
  }
 ],
 "metadata": {
  "kernelspec": {
   "display_name": "gen",
   "language": "python",
   "name": "gen"
  },
  "language_info": {
   "codemirror_mode": {
    "name": "ipython",
    "version": 3
   },
   "file_extension": ".py",
   "mimetype": "text/x-python",
   "name": "python",
   "nbconvert_exporter": "python",
   "pygments_lexer": "ipython3"
  }
 },
 "nbformat": 4,
 "nbformat_minor": 5
}
