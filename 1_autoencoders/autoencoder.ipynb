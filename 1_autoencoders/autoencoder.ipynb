{
 "cells": [
  {
   "cell_type": "code",
   "execution_count": 83,
   "id": "8dda7d7b-57dc-4480-9687-4d7890fd7b0b",
   "metadata": {},
   "outputs": [],
   "source": [
    "import torch\n",
    "import torch.nn as nn\n",
    "import torchvision.datasets as datasets\n",
    "import torchvision.transforms as transforms\n",
    "import matplotlib.pyplot as plt\n",
    "\n",
    "from torch.utils.data import DataLoader"
   ]
  },
  {
   "cell_type": "code",
   "execution_count": 72,
   "id": "62b188ee-4b35-447e-8e44-1b753768e42e",
   "metadata": {},
   "outputs": [
    {
     "name": "stdout",
     "output_type": "stream",
     "text": [
      "Files already downloaded and verified\n",
      "Files already downloaded and verified\n"
     ]
    }
   ],
   "source": [
    "data_path = \"/home/amal/UbuntuDocuments/data/torch_datasets\"\n",
    "\n",
    "train_data = datasets.CelebA(data_path, split=\"train\", transform=transforms.PILToTensor(), download=True)\n",
    "validation_data =  datasets.CelebA(data_path, split=\"valid\", transform=transforms.PILToTensor(), download=True)"
   ]
  },
  {
   "cell_type": "code",
   "execution_count": null,
   "id": "b761b9a8-f676-4deb-966f-759f03eb2a39",
   "metadata": {},
   "outputs": [],
   "source": []
  },
  {
   "cell_type": "code",
   "execution_count": 81,
   "id": "df9dec73-c988-4af2-9445-7c48170e24b2",
   "metadata": {},
   "outputs": [
    {
     "ename": "SyntaxError",
     "evalue": "expected ':' (2898551798.py, line 7)",
     "output_type": "error",
     "traceback": [
      "\u001b[0;36m  Cell \u001b[0;32mIn[81], line 7\u001b[0;36m\u001b[0m\n\u001b[0;31m    ),\u001b[0m\n\u001b[0m     ^\u001b[0m\n\u001b[0;31mSyntaxError\u001b[0m\u001b[0;31m:\u001b[0m expected ':'\n"
     ]
    }
   ],
   "source": [
    "#inspired by \n",
    "# https://github.com/AntixK/PyTorch-VAE/blob/master/models/beta_vae.py\n",
    "\n",
    "class AutoEncoder(torch.Module):\n",
    "    \n",
    "    def __init__(\n",
    "        self, \n",
    "        input_channels = 3, \n",
    "        output_channels = 3,\n",
    "        encoder_channel_sizes = [16, 32, 64, 128],\n",
    "    ),\n",
    "        \n",
    "        # initialise the encoder layers\n",
    "        encoder_input_sizes = [input_channels] + encoder_channel_sizes[-1:]\n",
    "        modules = []\n",
    "        for in_size, out_size in zip(encoder_input_sizes, encoder_channel_sizes):\n",
    "            modules.append(\n",
    "                self._get_cnn_module(\n",
    "                    in_size,\n",
    "                    out_size\n",
    "                )\n",
    "            )\n",
    "            \n",
    "        # Need Define a linear layer\n",
    "        # Need to work out what size this will be, but for now just whack it on the end\n",
    "        \n",
    "        self.encoder = nn.Sequential(*modules)\n",
    "        \n",
    "        \n",
    "    \n",
    "    def _get_cnn_module(\n",
    "        self,          \n",
    "        in_channel, \n",
    "        out_channel,\n",
    "        kernel_size=3,\n",
    "        stride = 2,\n",
    "        padding = 1\n",
    "    ):\n",
    "    \n",
    "        return nn.Sequential(\n",
    "            nn.Conv2d(\n",
    "                in_channels, \n",
    "                out_channels, \n",
    "                kernel_size=kernel_size, \n",
    "                stride=stride, \n",
    "                padding=padding\n",
    "            ),\n",
    "            nn.BatchNorm2d(out_channels),\n",
    "            nn.LeakyReLU()\n",
    "        )\n",
    "    \n",
    "\n",
    "        \n",
    "        "
   ]
  },
  {
   "cell_type": "code",
   "execution_count": 70,
   "id": "c4c01a63-6839-4f35-974b-9dc084a09f95",
   "metadata": {},
   "outputs": [
    {
     "data": {
      "text/plain": [
       "tensor([[[194, 195, 195,  ..., 222, 222, 222],\n",
       "         [153, 165, 183,  ..., 222, 222, 222],\n",
       "         [111, 120, 136,  ..., 222, 222, 222],\n",
       "         ...,\n",
       "         [ 29,  20,   9,  ..., 217, 217, 217],\n",
       "         [ 32,  20,  12,  ..., 217, 215, 215],\n",
       "         [ 32,  20,  12,  ..., 217, 215, 215]],\n",
       "\n",
       "        [[198, 199, 200,  ..., 224, 224, 224],\n",
       "         [157, 169, 187,  ..., 224, 224, 224],\n",
       "         [116, 125, 139,  ..., 224, 224, 224],\n",
       "         ...,\n",
       "         [ 29,  20,   9,  ..., 222, 222, 222],\n",
       "         [ 32,  20,  12,  ..., 222, 220, 220],\n",
       "         [ 32,  20,  12,  ..., 222, 220, 220]],\n",
       "\n",
       "        [[207, 208, 206,  ..., 223, 223, 223],\n",
       "         [169, 180, 198,  ..., 223, 223, 223],\n",
       "         [135, 144, 158,  ..., 223, 223, 223],\n",
       "         ...,\n",
       "         [ 29,  20,   9,  ..., 225, 225, 225],\n",
       "         [ 32,  20,  12,  ..., 225, 223, 223],\n",
       "         [ 32,  20,  12,  ..., 225, 223, 223]]], dtype=torch.uint8)"
      ]
     },
     "execution_count": 70,
     "metadata": {},
     "output_type": "execute_result"
    }
   ],
   "source": [
    "train_data[3541][0]"
   ]
  },
  {
   "cell_type": "code",
   "execution_count": 78,
   "id": "ae00b46a-9f85-44b2-b0eb-2e9f81d31a15",
   "metadata": {},
   "outputs": [
    {
     "data": {
      "text/plain": [
       "torch.Size([3, 218, 178])"
      ]
     },
     "execution_count": 78,
     "metadata": {},
     "output_type": "execute_result"
    }
   ],
   "source": [
    "train_data[0][0].shape"
   ]
  },
  {
   "cell_type": "code",
   "execution_count": null,
   "id": "5666baf8-7e3a-40a9-afef-640bb6ce13bc",
   "metadata": {},
   "outputs": [],
   "source": []
  },
  {
   "cell_type": "code",
   "execution_count": null,
   "id": "b3fd7686-75e8-444e-ba00-33deb047849d",
   "metadata": {},
   "outputs": [],
   "source": []
  },
  {
   "cell_type": "code",
   "execution_count": null,
   "id": "21df5679-2e84-4b5c-86aa-26e273487b21",
   "metadata": {},
   "outputs": [],
   "source": []
  }
 ],
 "metadata": {
  "kernelspec": {
   "display_name": "gen",
   "language": "python",
   "name": "gen"
  },
  "language_info": {
   "codemirror_mode": {
    "name": "ipython",
    "version": 3
   },
   "file_extension": ".py",
   "mimetype": "text/x-python",
   "name": "python",
   "nbconvert_exporter": "python",
   "pygments_lexer": "ipython3",
   "version": "3.10.12"
  }
 },
 "nbformat": 4,
 "nbformat_minor": 5
}
