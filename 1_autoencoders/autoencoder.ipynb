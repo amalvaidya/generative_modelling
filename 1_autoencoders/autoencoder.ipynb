{
 "cells": [
  {
   "cell_type": "code",
   "execution_count": 1,
   "id": "8dda7d7b-57dc-4480-9687-4d7890fd7b0b",
   "metadata": {},
   "outputs": [],
   "source": [
    "import torch\n",
    "import torch.nn as nn\n",
    "import torchvision.datasets as datasets\n",
    "import torchvision.transforms as transforms\n",
    "from torchsummary import summary\n",
    "import matplotlib.pyplot as plt\n",
    "\n",
    "from torchviz import make_dot\n",
    "from torch.utils.data import DataLoader\n",
    "\n",
    "from autoencoder import AutoEncoder\n",
    "\n"
   ]
  },
  {
   "cell_type": "code",
   "execution_count": 2,
   "id": "10e4ad45-d537-408a-b408-4c334ef1e6bc",
   "metadata": {},
   "outputs": [],
   "source": [
    "device = torch.device(\"cuda:0\" if torch.cuda.is_available() else \"cpu\")"
   ]
  },
  {
   "cell_type": "code",
   "execution_count": 3,
   "id": "62b188ee-4b35-447e-8e44-1b753768e42e",
   "metadata": {},
   "outputs": [
    {
     "name": "stdout",
     "output_type": "stream",
     "text": [
      "Files already downloaded and verified\n"
     ]
    }
   ],
   "source": [
    "data_path = \"/home/amal/UbuntuDocuments/data/torch_datasets\"\n",
    "\n",
    "# train_data = datasets.CelebA(data_path, split=\"train\", transform=transforms.PILToTensor(), download=True)\n",
    "validation_data =  datasets.CelebA(data_path, split=\"valid\", transform=transforms.PILToTensor(), download=True)"
   ]
  },
  {
   "cell_type": "code",
   "execution_count": null,
   "id": "b761b9a8-f676-4deb-966f-759f03eb2a39",
   "metadata": {},
   "outputs": [],
   "source": []
  },
  {
   "cell_type": "code",
   "execution_count": 4,
   "id": "df9dec73-c988-4af2-9445-7c48170e24b2",
   "metadata": {},
   "outputs": [],
   "source": [
    "#inspired by \n",
    "# https://github.com/AntixK/PyTorch-VAE/blob/master/models/beta_vae.py\n",
    "        \n",
    "        "
   ]
  },
  {
   "cell_type": "code",
   "execution_count": 5,
   "id": "839b4711-bb69-49af-9945-d692e2d26e95",
   "metadata": {},
   "outputs": [],
   "source": [
    "model = AutoEncoder()"
   ]
  },
  {
   "cell_type": "code",
   "execution_count": 6,
   "id": "71822316-6802-41f8-a968-390b351783ce",
   "metadata": {},
   "outputs": [
    {
     "name": "stdout",
     "output_type": "stream",
     "text": [
      "AutoEncoder(\n",
      "  (encoder): Sequential(\n",
      "    (0): Sequential(\n",
      "      (0): Conv2d(3, 16, kernel_size=(3, 3), stride=(2, 2), padding=(1, 1))\n",
      "      (1): BatchNorm2d(16, eps=1e-05, momentum=0.1, affine=True, track_running_stats=True)\n",
      "      (2): LeakyReLU(negative_slope=0.01)\n",
      "    )\n",
      "    (1): Sequential(\n",
      "      (0): Conv2d(16, 32, kernel_size=(3, 3), stride=(2, 2), padding=(1, 1))\n",
      "      (1): BatchNorm2d(32, eps=1e-05, momentum=0.1, affine=True, track_running_stats=True)\n",
      "      (2): LeakyReLU(negative_slope=0.01)\n",
      "    )\n",
      "    (2): Sequential(\n",
      "      (0): Conv2d(32, 64, kernel_size=(3, 3), stride=(2, 2), padding=(1, 1))\n",
      "      (1): BatchNorm2d(64, eps=1e-05, momentum=0.1, affine=True, track_running_stats=True)\n",
      "      (2): LeakyReLU(negative_slope=0.01)\n",
      "    )\n",
      "    (3): Sequential(\n",
      "      (0): Conv2d(64, 128, kernel_size=(3, 3), stride=(2, 2), padding=(1, 1))\n",
      "      (1): BatchNorm2d(128, eps=1e-05, momentum=0.1, affine=True, track_running_stats=True)\n",
      "      (2): LeakyReLU(negative_slope=0.01)\n",
      "    )\n",
      "    (4): Flatten(start_dim=1, end_dim=-1)\n",
      "    (5): Linear(in_features=21504, out_features=256, bias=True)\n",
      "  )\n",
      "  (decoder_linear): Linear(in_features=256, out_features=21504, bias=True)\n",
      "  (decoder): Sequential(\n",
      "    (0): Sequential(\n",
      "      (0): ConvTranspose2d(128, 64, kernel_size=(3, 3), stride=(2, 2), padding=(1, 1), output_padding=(1, 0))\n",
      "      (1): BatchNorm2d(64, eps=1e-05, momentum=0.1, affine=True, track_running_stats=True)\n",
      "      (2): LeakyReLU(negative_slope=0.01)\n",
      "    )\n",
      "    (1): Sequential(\n",
      "      (0): ConvTranspose2d(64, 32, kernel_size=(3, 3), stride=(2, 2), padding=(1, 1))\n",
      "      (1): BatchNorm2d(32, eps=1e-05, momentum=0.1, affine=True, track_running_stats=True)\n",
      "      (2): LeakyReLU(negative_slope=0.01)\n",
      "    )\n",
      "    (2): Sequential(\n",
      "      (0): ConvTranspose2d(32, 16, kernel_size=(3, 3), stride=(2, 2), padding=(1, 1))\n",
      "      (1): BatchNorm2d(16, eps=1e-05, momentum=0.1, affine=True, track_running_stats=True)\n",
      "      (2): LeakyReLU(negative_slope=0.01)\n",
      "    )\n",
      "    (3): Sequential(\n",
      "      (0): ConvTranspose2d(16, 3, kernel_size=(3, 3), stride=(2, 2), padding=(1, 1))\n",
      "      (1): BatchNorm2d(3, eps=1e-05, momentum=0.1, affine=True, track_running_stats=True)\n",
      "      (2): LeakyReLU(negative_slope=0.01)\n",
      "    )\n",
      "  )\n",
      ")\n"
     ]
    }
   ],
   "source": [
    "print(model)"
   ]
  },
  {
   "cell_type": "code",
   "execution_count": null,
   "id": "4b8ecaa3-c109-4df7-ac30-41fde9068c74",
   "metadata": {},
   "outputs": [],
   "source": []
  },
  {
   "cell_type": "code",
   "execution_count": 7,
   "id": "ae00b46a-9f85-44b2-b0eb-2e9f81d31a15",
   "metadata": {},
   "outputs": [],
   "source": [
    "dataloader = DataLoader(validation_data, batch_size=8)"
   ]
  },
  {
   "cell_type": "code",
   "execution_count": 12,
   "id": "5666baf8-7e3a-40a9-afef-640bb6ce13bc",
   "metadata": {},
   "outputs": [
    {
     "name": "stdout",
     "output_type": "stream",
     "text": [
      "torch.Size([8, 3, 218, 178])\n",
      "torch.Size([8, 3, 217, 177])\n"
     ]
    },
    {
     "name": "stderr",
     "output_type": "stream",
     "text": [
      "/tmp/ipykernel_4393/3204036947.py:5: UserWarning: To copy construct from a tensor, it is recommended to use sourceTensor.clone().detach() or sourceTensor.clone().detach().requires_grad_(True), rather than torch.tensor(sourceTensor).\n",
      "  tensor_input = torch.tensor(input_image/255, dtype=torch.float).to(device)\n"
     ]
    }
   ],
   "source": [
    "model = AutoEncoder()\n",
    "model.to(device)\n",
    "for data in dataloader:\n",
    "    input_image = data[0]\n",
    "    tensor_input = torch.tensor(input_image/255, dtype=torch.float).to(device)\n",
    "    print(tensor_input.shape)\n",
    "    output = model(tensor_input)\n",
    "    print(output.shape)\n",
    "    \n",
    "    break"
   ]
  },
  {
   "cell_type": "code",
   "execution_count": 9,
   "id": "722ad45d-38c0-4998-b993-0a1b28460873",
   "metadata": {},
   "outputs": [
    {
     "data": {
      "text/plain": [
       "torch.Size([3])"
      ]
     },
     "execution_count": 9,
     "metadata": {},
     "output_type": "execute_result"
    }
   ],
   "source": [
    "torch.tensor([3, 218, 178]).to(device).shape"
   ]
  },
  {
   "cell_type": "code",
   "execution_count": 10,
   "id": "bf12344f-166a-4a60-bcaf-fbfaf64657f0",
   "metadata": {},
   "outputs": [
    {
     "name": "stdout",
     "output_type": "stream",
     "text": [
      "----------------------------------------------------------------\n",
      "        Layer (type)               Output Shape         Param #\n",
      "================================================================\n",
      "            Conv2d-1          [-1, 16, 109, 89]             448\n",
      "       BatchNorm2d-2          [-1, 16, 109, 89]              32\n",
      "         LeakyReLU-3          [-1, 16, 109, 89]               0\n",
      "            Conv2d-4           [-1, 32, 55, 45]           4,640\n",
      "       BatchNorm2d-5           [-1, 32, 55, 45]              64\n",
      "         LeakyReLU-6           [-1, 32, 55, 45]               0\n",
      "            Conv2d-7           [-1, 64, 28, 23]          18,496\n",
      "       BatchNorm2d-8           [-1, 64, 28, 23]             128\n",
      "         LeakyReLU-9           [-1, 64, 28, 23]               0\n",
      "           Conv2d-10          [-1, 128, 14, 12]          73,856\n",
      "      BatchNorm2d-11          [-1, 128, 14, 12]             256\n",
      "        LeakyReLU-12          [-1, 128, 14, 12]               0\n",
      "          Flatten-13                [-1, 21504]               0\n",
      "           Linear-14                  [-1, 256]       5,505,280\n",
      "           Linear-15                [-1, 21504]       5,526,528\n",
      "  ConvTranspose2d-16           [-1, 64, 28, 23]          73,792\n",
      "      BatchNorm2d-17           [-1, 64, 28, 23]             128\n",
      "        LeakyReLU-18           [-1, 64, 28, 23]               0\n",
      "  ConvTranspose2d-19           [-1, 32, 55, 45]          18,464\n",
      "      BatchNorm2d-20           [-1, 32, 55, 45]              64\n",
      "        LeakyReLU-21           [-1, 32, 55, 45]               0\n",
      "  ConvTranspose2d-22          [-1, 16, 109, 89]           4,624\n",
      "      BatchNorm2d-23          [-1, 16, 109, 89]              32\n",
      "        LeakyReLU-24          [-1, 16, 109, 89]               0\n",
      "  ConvTranspose2d-25          [-1, 3, 217, 177]             435\n",
      "      BatchNorm2d-26          [-1, 3, 217, 177]               6\n",
      "        LeakyReLU-27          [-1, 3, 217, 177]               0\n",
      "================================================================\n",
      "Total params: 11,227,273\n",
      "Trainable params: 11,227,273\n",
      "Non-trainable params: 0\n",
      "----------------------------------------------------------------\n",
      "Input size (MB): 0.44\n",
      "Forward/backward pass size (MB): 16.08\n",
      "Params size (MB): 42.83\n",
      "Estimated Total Size (MB): 59.35\n",
      "----------------------------------------------------------------\n"
     ]
    }
   ],
   "source": [
    "model = AutoEncoder()\n",
    "summary(model.to(device), (3, 218, 178))"
   ]
  },
  {
   "cell_type": "code",
   "execution_count": null,
   "id": "b3fd7686-75e8-444e-ba00-33deb047849d",
   "metadata": {},
   "outputs": [],
   "source": []
  },
  {
   "cell_type": "code",
   "execution_count": null,
   "id": "21df5679-2e84-4b5c-86aa-26e273487b21",
   "metadata": {},
   "outputs": [],
   "source": []
  },
  {
   "cell_type": "code",
   "execution_count": null,
   "id": "94e05f4b-657d-425f-bf1e-23235bfa700b",
   "metadata": {},
   "outputs": [],
   "source": []
  }
 ],
 "metadata": {
  "kernelspec": {
   "display_name": "gen",
   "language": "python",
   "name": "gen"
  },
  "language_info": {
   "codemirror_mode": {
    "name": "ipython",
    "version": 3
   },
   "file_extension": ".py",
   "mimetype": "text/x-python",
   "name": "python",
   "nbconvert_exporter": "python",
   "pygments_lexer": "ipython3",
   "version": "3.10.12"
  }
 },
 "nbformat": 4,
 "nbformat_minor": 5
}
